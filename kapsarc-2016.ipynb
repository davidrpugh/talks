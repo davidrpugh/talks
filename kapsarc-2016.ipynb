{
 "cells": [
  {
   "cell_type": "markdown",
   "metadata": {
    "slideshow": {
     "slide_type": "slide"
    }
   },
   "source": [
    "<h1 align=center> ScalABM: </h1>\n",
    "<h2 align=center>A toolkit for building scalable, data-driven, ABMs</h2>\n",
    "\n",
    "<h3 align=center> Dr. David R. Pugh and Prof. J. Doyne Farmer </h3>\n",
    "<img src=\"./img/INET_Brand_Final-01.png\" alt=\"Institute for New Economic Thinking\" width=500>"
   ]
  },
  {
   "cell_type": "markdown",
   "metadata": {
    "slideshow": {
     "slide_type": "slide"
    }
   },
   "source": [
    "<h2 align=center> Motivation </h2>"
   ]
  },
  {
   "cell_type": "markdown",
   "metadata": {
    "slideshow": {
     "slide_type": "subslide"
    }
   },
   "source": [
    "<p><strong>Problem:</strong> Aggregate behavior of many (most?) economic systems depends on system size: we need to build models that are as close to observed system scale as possible.</p>"
   ]
  },
  {
   "cell_type": "markdown",
   "metadata": {
    "slideshow": {
     "slide_type": "subslide"
    }
   },
   "source": [
    "<p><strong>Problem:</strong> Progress in building large-scale ABMs of economic systems has been significantly hindered by the lack of a common modeling platform, lack of a common tool stack for data management and analytics, and lack of access to model source code.</p>"
   ]
  },
  {
   "cell_type": "markdown",
   "metadata": {
    "slideshow": {
     "slide_type": "slide"
    }
   },
   "source": [
    "<h1 align=center> ScalABM </h1>"
   ]
  },
  {
   "cell_type": "markdown",
   "metadata": {
    "slideshow": {
     "slide_type": "subslide"
    }
   },
   "source": [
    "<p>ScalABM is a <strong>community driven, open-source</strong> project to develop a user-friendly modeling platform and tool stack for building <strong>scalable, data-driven</strong>, and <strong>reproducible</strong> agent-based models (ABMs) of <strong>economic systems</strong> on the JVM using <a href=\"http://scala-lang.org/\">Scala</a> and <a href=\"http://akka.io/\">Akka</a>.</p>\n"
   ]
  },
  {
   "cell_type": "markdown",
   "metadata": {
    "slideshow": {
     "slide_type": "slide"
    }
   },
   "source": [
    "<h2 align=center>...community driven, open-source...</h2>"
   ]
  },
  {
   "cell_type": "markdown",
   "metadata": {
    "slideshow": {
     "slide_type": "subslide"
    }
   },
   "source": [
    "ScalABM source code is publically hosted on <a href=\"https://github.com\">GitHub</a>...\n",
    "\n",
    "<img src=\"./img/github-logo.jpg\" alt=\"GitHub\" width=400>"
   ]
  },
  {
   "cell_type": "markdown",
   "metadata": {
    "slideshow": {
     "slide_type": "subslide"
    }
   },
   "source": [
    "...an licensed under the permissive <a href=\"http://choosealicense.com/licenses/apache-2.0/\">Apache 2.0</a> open source license...\n",
    "\n",
    "<img src=\"./img/asf-logo.png\" alt=\"Apache 2.0 License\" width=400>"
   ]
  },
  {
   "cell_type": "markdown",
   "metadata": {
    "slideshow": {
     "slide_type": "subslide"
    }
   },
   "source": [
    "...anyone can contribute to the development of ScalABM and the permissive Apache 2.0 license allows for free use of the software libraries <strong>even in commercial applications</strong>."
   ]
  },
  {
   "cell_type": "markdown",
   "metadata": {
    "slideshow": {
     "slide_type": "slide"
    }
   },
   "source": [
    "<h2 align=center>...scalable, data-driven...</h2>"
   ]
  },
  {
   "cell_type": "markdown",
   "metadata": {
    "slideshow": {
     "slide_type": "subslide"
    }
   },
   "source": [
    "ScalABM pursues two kinds of solutions to the scaling problem...\n",
    "\n",
    "<ol>\n",
    "  <li> ...<strong>software solutions</strong>: ScalABM leverages the <a href=\"https://en.wikipedia.org/wiki/Actor_model\">Actor model</a> of concurrency as implemented in the <a href=\"http://akka.io/\">Akka</a> library to build ABMs that are highly concurrent, distributed, and message-driven.\n",
    "  <li> ...<strong>hardware solutions</strong>:  because models built using the ScalABM libraries are basically scalable web applications, we are able to leverage multicore computers as well as the massively multi-core cloud computing platforms that have become the dominant form of large-scale computing outside of academia.</li>\n",
    "</ol>"
   ]
  },
  {
   "cell_type": "markdown",
   "metadata": {
    "slideshow": {
     "slide_type": "subslide"
    }
   },
   "source": [
    "High-level architecture influenced by industry \"best practices\" for developing <a href=\"http://www.reactivemanifesto.org\">Reactive</a>, \"Fast Data\" web applications..."
   ]
  },
  {
   "cell_type": "markdown",
   "metadata": {
    "slideshow": {
     "slide_type": "subslide"
    }
   },
   "source": [
    " <img src=\"./img/scalabm-architecture.png\" alt=\"ScalABM architecture\">\n",
    " Source: <a url=\"./literature/fast-data-big-data-evolved\">Dean Wampler, <em>Fast data: Big data evolved</em>, Typesafe Whitepaper, 2015.</a>"
   ]
  },
  {
   "cell_type": "markdown",
   "metadata": {
    "slideshow": {
     "slide_type": "subslide"
    }
   },
   "source": [
    "<strong>Problem:</strong> How to install all of the necessary dependencies to run and develop models?"
   ]
  },
  {
   "cell_type": "markdown",
   "metadata": {
    "slideshow": {
     "slide_type": "subslide"
    }
   },
   "source": [
    "<strong>Solution:</strong> Containerize ScalABM applications using <a href=\"https://www.docker.com/\">Docker</a>!\n",
    "<img src=\"./img/docker.png\" alt=\"Docker containers\" width=400 align=\"middle\">"
   ]
  },
  {
   "cell_type": "markdown",
   "metadata": {
    "slideshow": {
     "slide_type": "slide"
    }
   },
   "source": [
    "Containerizing a model using Docker containers allows you can run same model <em>locally</em> on your local machine (which might be running Windows, Mac OSX, Linux, or something more exotic), or in the cloud..."
   ]
  },
  {
   "cell_type": "markdown",
   "metadata": {
    "slideshow": {
     "slide_type": "subslide"
    }
   },
   "source": [
    "<div class=\"grid-image\">\n",
    "  <img src=\"./img/elastic-beanstalk.png\" alt=\"Amazon Elastic Beanstalk\" width=300>\n",
    "</div>"
   ]
  },
  {
   "cell_type": "markdown",
   "metadata": {
    "slideshow": {
     "slide_type": "subslide"
    }
   },
   "source": [
    "<div class=\"grid-image\">\n",
    "  <img src=\"./img/kupernetes.png\" alt=\"Google Kupernetes\" width=300>\n",
    "</div>"
   ]
  },
  {
   "cell_type": "markdown",
   "metadata": {
    "slideshow": {
     "slide_type": "subslide"
    }
   },
   "source": [
    "<div class=\"grid-image\">\n",
    "  <img src=\"./img/azure.jpeg\" alt=\"Microsoft Azure\" width=300>\n",
    "</div>"
   ]
  },
  {
   "cell_type": "markdown",
   "metadata": {
    "slideshow": {
     "slide_type": "subslide"
    }
   },
   "source": [
    "<div class=\"grid-image\">\n",
    "  <img src=\"./img/mesosphere.png\" alt=\"Microsoft Azure\" width=300>\n",
    "</div>"
   ]
  },
  {
   "cell_type": "markdown",
   "metadata": {
    "collapsed": true,
    "slideshow": {
     "slide_type": "subslide"
    }
   },
   "source": [
    "...or <em>possibly</em> can even run on your local university or government sponsored HPC cluster."
   ]
  },
  {
   "cell_type": "markdown",
   "metadata": {
    "slideshow": {
     "slide_type": "slide"
    }
   },
   "source": [
    "<h2 align=center>...reproducible...</h2>"
   ]
  },
  {
   "cell_type": "markdown",
   "metadata": {
    "slideshow": {
     "slide_type": "subslide"
    }
   },
   "source": [
    "<p>Software development processes of the ScalABM project are following open-source development processes that have become standard <a href=\"http://journals.plos.org/plosbiology/article?id=10.1371/journal.pbio.1001745\">\"best practices\" for reproducible scientific computing</a>...</p>"
   ]
  },
  {
   "cell_type": "markdown",
   "metadata": {
    "slideshow": {
     "slide_type": "subslide"
    }
   },
   "source": [
    "...source code has unit test suite with continuous integration (CI) provided by <a href=\"https://travis-ci.org/\">Travis CI</a>...\n",
    "\n",
    "<img src=\"./img/travis-ci-logo.jpg\" alt=\"Travis CI\" width=300>"
   ]
  },
  {
   "cell_type": "markdown",
   "metadata": {
    "slideshow": {
     "slide_type": "subslide"
    }
   },
   "source": [
    "...source code has unit test coverage reports and statistics generated by <a href=\"https://coveralls.io/\">Coveralls</a>...\n",
    "\n",
    "<img src=\"./img/coveralls-logo.png\" alt=\"Coveralls\" width=300>"
   ]
  },
  {
   "cell_type": "markdown",
   "metadata": {
    "slideshow": {
     "slide_type": "subslide"
    }
   },
   "source": [
    "...static analysis of source code base provided by <a href=\"https://www.codacy.com/\">Codacy</a>... \n",
    "\n",
    "<img src=\"./img/codacy-logo.png\" alt=\"Codacy\" width=300>"
   ]
  },
  {
   "cell_type": "markdown",
   "metadata": {
    "slideshow": {
     "slide_type": "subslide"
    }
   },
   "source": [
    "..all of these services are which are free for open-source projects, help insure that:\n",
    "<ol>\n",
    "    <li>our source code is uniformly of high-quality;</li>\n",
    "    <li>our models produce results that are reproducible by <em>other</em> scientists;</li>\n",
    "    <li>our models produce results that can be validated by <em>other</em> scientists;</li>\n",
    "    <li>our models can be easily extended by <em>other</em> scientists.</li>\n",
    "</ol>"
   ]
  },
  {
   "cell_type": "markdown",
   "metadata": {
    "slideshow": {
     "slide_type": "slide"
    }
   },
   "source": [
    "<h2 align=center>...economic systems...</h2>"
   ]
  },
  {
   "cell_type": "markdown",
   "metadata": {
    "slideshow": {
     "slide_type": "subslide"
    }
   },
   "source": [
    "Current we are developing a ScalABM API for market mechanisms called the `markets-sandbox`. We are targeting the major types of two-sided auction mechanisms commonly implemented in real world markets (that are also widely used in ABM)."
   ]
  },
  {
   "cell_type": "markdown",
   "metadata": {
    "slideshow": {
     "slide_type": "subslide"
    }
   },
   "source": [
    "<ul>\n",
    "  <li> Posted offer (PO): PO allows one side (say sellers) to commit to particular prices that are publicly posted and then allows the other side to choose quantities. PO is the dominant clearing mechanism used in the modern retail sector.</li>\n",
    "  <li>Bilateral negotiation (BLN): BLN requires each buyer to search for a seller (and vice versa); the pair then tries to negotiate a price and (if unsuccessful) resumes search. BLN clearing mechanisms were prevalent in preindustrial retail trade, and continue to be widely used in modern business-to-business (B2B) contracting. Some retail Internet sites also use BLN clearing mechanisms.</li>\n",
    "  <li>Continuous double auction (CDA): CDA allows traders to make offers to buy and to sell and allows traders to accept offers at any time during a trading period. Variants of CDA markets prevail in modern financial markets.exchanges such as the New York Stock Exchange (NYSE), NASDAQ, and the Chicago Board of Trade and are featured options on many B2B Internet sites.</li>\n",
    "  <li>Call auction (CA): The CA requires markets.participants to make simultaneous offers to buy or sell, and the offers are cleared once each trading period at a uniform price.</li>\n",
    "<ul>"
   ]
  },
  {
   "cell_type": "markdown",
   "metadata": {
    "slideshow": {
     "slide_type": "subslide"
    }
   },
   "source": [
    "Currently working with undergraduate and graduate students to replicate seminal market microstructure ABMs using the ScalABM `markets-sandbox`..."
   ]
  },
  {
   "cell_type": "markdown",
   "metadata": {
    "slideshow": {
     "slide_type": "slide"
    }
   },
   "source": [
    "<h2 align=center> Questions? </h2>"
   ]
  }
 ],
 "metadata": {
  "celltoolbar": "Slideshow",
  "kernelspec": {
   "display_name": "Python 3",
   "language": "python",
   "name": "python3"
  },
  "language_info": {
   "codemirror_mode": {
    "name": "ipython",
    "version": 3
   },
   "file_extension": ".py",
   "mimetype": "text/x-python",
   "name": "python",
   "nbconvert_exporter": "python",
   "pygments_lexer": "ipython3",
   "version": "3.4.4"
  }
 },
 "nbformat": 4,
 "nbformat_minor": 0
}
