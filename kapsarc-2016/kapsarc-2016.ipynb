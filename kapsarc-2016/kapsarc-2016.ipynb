{
 "cells": [
  {
   "cell_type": "code",
   "execution_count": 1,
   "metadata": {
    "collapsed": false,
    "slideshow": {
     "slide_type": "-"
    }
   },
   "outputs": [
    {
     "data": {
      "text/html": [
       "<style>\n",
       "  h1 {\n",
       "    text-align: center;\n",
       "  }\n",
       "  h2 {\n",
       "    text-align: center;\n",
       "  }\n",
       "  h3 {\n",
       "    text-align: center;\n",
       "  }\n",
       "  img {\n",
       "    margin-left: auto;\n",
       "    margin-right: auto;\n",
       "  }\n",
       "</style>\n"
      ],
      "text/plain": [
       "<IPython.core.display.HTML object>"
      ]
     },
     "execution_count": 1,
     "metadata": {},
     "output_type": "execute_result"
    }
   ],
   "source": [
    "from IPython.core.display import HTML\n",
    "HTML(\"./custom.css\")"
   ]
  },
  {
   "cell_type": "markdown",
   "metadata": {
    "slideshow": {
     "slide_type": "slide"
    }
   },
   "source": [
    "<h1>ScalABM:</h1>\n",
    "<h2>A toolkit for building scalable, data-driven, ABMs</h2>\n",
    "\n",
    "<h3>Dr. David R. Pugh and Prof. J. Doyne Farmer</h3>\n",
    "<img src=\"./img/INET_Brand_Final-01.png\" alt=\"Institute for New Economic Thinking\" width=500>"
   ]
  },
  {
   "cell_type": "markdown",
   "metadata": {
    "slideshow": {
     "slide_type": "slide"
    }
   },
   "source": [
    "<h2> Motivation </h2>"
   ]
  },
  {
   "cell_type": "markdown",
   "metadata": {
    "slideshow": {
     "slide_type": "subslide"
    }
   },
   "source": [
    "<p><strong>Problem:</strong> Aggregate behavior of many (most?) economic systems depends on system size: we need to build models that are as close to observed system scale as possible.</p>"
   ]
  },
  {
   "cell_type": "markdown",
   "metadata": {
    "slideshow": {
     "slide_type": "subslide"
    }
   },
   "source": [
    "<p><strong>Problem:</strong> Progress in building large-scale ABMs of economic systems has been significantly hindered by the lack of a common modeling platform, lack of a common tool stack for data management and analytics, and lack of access to model source code.</p>"
   ]
  },
  {
   "cell_type": "markdown",
   "metadata": {
    "slideshow": {
     "slide_type": "slide"
    }
   },
   "source": [
    "<h1>ScalABM</h1>"
   ]
  },
  {
   "cell_type": "markdown",
   "metadata": {
    "slideshow": {
     "slide_type": "subslide"
    }
   },
   "source": [
    "<p>ScalABM is a <strong>community driven, open-source</strong> project to develop a user-friendly modeling platform and tool stack for building <strong>scalable, data-driven</strong>, and <strong>reproducible</strong> agent-based models (ABMs) of <strong>economic systems</strong> on the JVM using <a href=\"http://scala-lang.org/\">Scala</a> and <a href=\"http://akka.io/\">Akka</a>.</p>\n"
   ]
  },
  {
   "cell_type": "markdown",
   "metadata": {
    "slideshow": {
     "slide_type": "slide"
    }
   },
   "source": [
    "<h2>...community driven, open-source...</h2>"
   ]
  },
  {
   "cell_type": "markdown",
   "metadata": {
    "slideshow": {
     "slide_type": "subslide"
    }
   },
   "source": [
    "<p>ScalABM source code is publically hosted on <a href=\"https://github.com\">GitHub</a>...</p>\n",
    "\n",
    "<img src=\"./img/github-logo.jpg\" alt=\"GitHub\" width=400>"
   ]
  },
  {
   "cell_type": "markdown",
   "metadata": {
    "slideshow": {
     "slide_type": "subslide"
    }
   },
   "source": [
    "<p>...and licensed under the permissive <a href=\"http://choosealicense.com/licenses/apache-2.0/\">Apache 2.0</a> open source license...</p>\n",
    "\n",
    "<img src=\"./img/asf-logo.png\" alt=\"Apache 2.0 License\" width=400>"
   ]
  },
  {
   "cell_type": "markdown",
   "metadata": {
    "slideshow": {
     "slide_type": "subslide"
    }
   },
   "source": [
    "<p>...anyone can contribute to the development of ScalABM and the permissive Apache 2.0 license allows for free use of the software libraries <strong>even in commercial applications</strong>.</p>"
   ]
  },
  {
   "cell_type": "markdown",
   "metadata": {
    "slideshow": {
     "slide_type": "slide"
    }
   },
   "source": [
    "<h2>...scalable, data-driven...</h2>"
   ]
  },
  {
   "cell_type": "markdown",
   "metadata": {
    "slideshow": {
     "slide_type": "subslide"
    }
   },
   "source": [
    "<p>ScalABM pursues two kinds of solutions to the scaling problem...</p>\n",
    "\n",
    "<ol>\n",
    "  <li><p>...<strong>software solutions</strong>: ScalABM leverages the <a href=\"https://en.wikipedia.org/wiki/Actor_model\">Actor model</a> of concurrency as implemented in the <a href=\"http://akka.io/\">Akka</a> library to build ABMs that are highly concurrent, distributed, and message-driven.</p>\n",
    "  <li><p>...<strong>hardware solutions</strong>:  because models built using the ScalABM libraries are basically scalable web applications, we are able to leverage multicore computers as well as the massively multi-core cloud computing platforms that have become the dominant form of large-scale computing outside of academia.</p></li>\n",
    "</ol>"
   ]
  },
  {
   "cell_type": "markdown",
   "metadata": {
    "slideshow": {
     "slide_type": "subslide"
    }
   },
   "source": [
    "<p>High-level architecture influenced by industry \"best practices\" for developing <a href=\"http://www.reactivemanifesto.org\">Reactive</a>, \"Fast Data\" web applications...</p>"
   ]
  },
  {
   "cell_type": "markdown",
   "metadata": {
    "slideshow": {
     "slide_type": "subslide"
    }
   },
   "source": [
    " <img src=\"./img/scalabm-architecture.png\" alt=\"ScalABM architecture\">\n",
    " Source: <a url=\"./literature/fast-data-big-data-evolved\">Dean Wampler, <em>Fast data: Big data evolved</em>, Typesafe Whitepaper, 2015.</a>"
   ]
  },
  {
   "cell_type": "markdown",
   "metadata": {
    "slideshow": {
     "slide_type": "subslide"
    }
   },
   "source": [
    "<p><strong>Problem:</strong> How to install all of the necessary dependencies to run and develop models?</p>"
   ]
  },
  {
   "cell_type": "markdown",
   "metadata": {
    "slideshow": {
     "slide_type": "subslide"
    }
   },
   "source": [
    "<p><strong>Solution:</strong> Containerize ScalABM applications using <a href=\"https://www.docker.com/\">Docker</a>!\n",
    "<img src=\"./img/docker.png\" alt=\"Docker containers\" width=400 align=\"middle\"></p>"
   ]
  },
  {
   "cell_type": "markdown",
   "metadata": {
    "slideshow": {
     "slide_type": "slide"
    }
   },
   "source": [
    "<p>Containerizing a model using Docker containers allows you can run same model <em>locally</em> on your local machine (which might be running Windows, Mac OSX, Linux, or something more exotic), or in the cloud...</p>"
   ]
  },
  {
   "cell_type": "markdown",
   "metadata": {
    "slideshow": {
     "slide_type": "subslide"
    }
   },
   "source": [
    "<div class=\"grid-image\">\n",
    "  <img src=\"./img/elastic-beanstalk.png\" alt=\"Amazon Elastic Beanstalk\" width=400>\n",
    "</div>"
   ]
  },
  {
   "cell_type": "markdown",
   "metadata": {
    "slideshow": {
     "slide_type": "subslide"
    }
   },
   "source": [
    "<div class=\"grid-image\">\n",
    "  <img src=\"./img/kupernetes.png\" alt=\"Google Kupernetes\" width=400>\n",
    "</div>"
   ]
  },
  {
   "cell_type": "markdown",
   "metadata": {
    "slideshow": {
     "slide_type": "subslide"
    }
   },
   "source": [
    "<div class=\"grid-image\">\n",
    "  <img src=\"./img/azure.jpeg\" alt=\"Microsoft Azure\" width=400>\n",
    "</div>"
   ]
  },
  {
   "cell_type": "markdown",
   "metadata": {
    "slideshow": {
     "slide_type": "subslide"
    }
   },
   "source": [
    "<div class=\"grid-image\">\n",
    "  <img src=\"./img/mesosphere.png\" alt=\"Microsoft Azure\" width=400>\n",
    "</div>"
   ]
  },
  {
   "cell_type": "markdown",
   "metadata": {
    "collapsed": true,
    "slideshow": {
     "slide_type": "subslide"
    }
   },
   "source": [
    "<p>...or <em>possibly</em> can even run on your local university or government sponsored HPC cluster.</p>"
   ]
  },
  {
   "cell_type": "markdown",
   "metadata": {
    "slideshow": {
     "slide_type": "slide"
    }
   },
   "source": [
    "<h2>...reproducible...</h2>"
   ]
  },
  {
   "cell_type": "markdown",
   "metadata": {
    "slideshow": {
     "slide_type": "subslide"
    }
   },
   "source": [
    "<p>Software development processes of the ScalABM project are following open-source development processes that have become standard <a href=\"http://journals.plos.org/plosbiology/article?id=10.1371/journal.pbio.1001745\">\"best practices\" for reproducible scientific computing</a>...</p>"
   ]
  },
  {
   "cell_type": "markdown",
   "metadata": {
    "slideshow": {
     "slide_type": "subslide"
    }
   },
   "source": [
    "<p>...source code has unit test suite with continuous integration (CI) provided by <a href=\"https://travis-ci.org/\">Travis CI</a>...</p>\n",
    "\n",
    "<img src=\"./img/travis-ci-logo.jpg\" alt=\"Travis CI\" width=400>"
   ]
  },
  {
   "cell_type": "markdown",
   "metadata": {
    "slideshow": {
     "slide_type": "subslide"
    }
   },
   "source": [
    "<p>...source code has unit test coverage reports and statistics generated by <a href=\"https://coveralls.io/\">Coveralls</a>...</p>\n",
    "\n",
    "<img src=\"./img/coveralls-logo.png\" alt=\"Coveralls\" width=400>"
   ]
  },
  {
   "cell_type": "markdown",
   "metadata": {
    "slideshow": {
     "slide_type": "subslide"
    }
   },
   "source": [
    "<p>...static analysis of source code base provided by <a href=\"https://www.codacy.com/\">Codacy</a>...</p> \n",
    "\n",
    "<img src=\"./img/codacy-logo.png\" alt=\"Codacy\" width=400>"
   ]
  },
  {
   "cell_type": "markdown",
   "metadata": {
    "slideshow": {
     "slide_type": "subslide"
    }
   },
   "source": [
    "<p>...all of these services are which are free for open-source projects, help insure that...</p>\n",
    "<ol>\n",
    "    <li><p>...our source code is uniformly of high-quality;</p></li>\n",
    "    <li><p>...our models produce results that are reproducible by <em>other</em> scientists;</p></li>\n",
    "    <li><p>...our models produce results that can be validated by <em>other</em> scientists;</p></li>\n",
    "    <li><p>...our models can be easily extended by <em>other</em> scientists.</p></li>\n",
    "</ol>"
   ]
  },
  {
   "cell_type": "markdown",
   "metadata": {
    "slideshow": {
     "slide_type": "slide"
    }
   },
   "source": [
    "<h2>...economic systems...</h2>"
   ]
  },
  {
   "cell_type": "markdown",
   "metadata": {
    "slideshow": {
     "slide_type": "subslide"
    }
   },
   "source": [
    "<p>Current we are developing a ScalABM API for market mechanisms called markets-sandbox. We are targeting the major types of two-sided auction mechanisms commonly implemented in real world markets (that are also widely used in ABM).</p>"
   ]
  },
  {
   "cell_type": "markdown",
   "metadata": {
    "slideshow": {
     "slide_type": "subslide"
    }
   },
   "source": [
    "<ul>\n",
    "  <li><p><strong>Posted offer (PO)</strong>: PO allows one side (say sellers) to commit to particular prices that are publicly posted and then allows the other side to choose quantities. PO is the dominant clearing mechanism used in the modern retail sector.</p></li>\n",
    "  <li><p><strong>Bilateral negotiation (BLN)</strong>: BLN requires each buyer to search for a seller (and vice versa); the pair then tries to negotiate a price and (if unsuccessful) resumes search. BLN clearing mechanisms were prevalent in preindustrial retail trade, and continue to be widely used in modern business-to-business (B2B) contracting. Some retail Internet sites also use BLN clearing mechanisms.</p></li>\n",
    "  <li><p><strong>Continuous double auction (CDA)</strong>: CDA allows traders to make offers to buy and to sell and allows traders to accept offers at any time during a trading period. Variants of CDA markets prevail in modern financial markets.exchanges such as the New York Stock Exchange (NYSE), NASDAQ, and the Chicago Board of Trade and are featured options on many B2B Internet sites.</p></li>\n",
    "  <li><p><strong>Call auction (CA)</strong>: The CA requires markets.participants to make simultaneous offers to buy or sell, and the offers are cleared once each trading period at a uniform price.</p></li>\n",
    "<ul>"
   ]
  },
  {
   "cell_type": "markdown",
   "metadata": {
    "slideshow": {
     "slide_type": "subslide"
    }
   },
   "source": [
    "<p style=\"font-size:100%\">Currently working with undergraduate and graduate students to replicate seminal market microstructure ABMs using the ScalABM `markets-sandbox`...</p>"
   ]
  },
  {
   "cell_type": "markdown",
   "metadata": {
    "slideshow": {
     "slide_type": "slide"
    }
   },
   "source": [
    "<h2> Questions? </h2>"
   ]
  }
 ],
 "metadata": {
  "celltoolbar": "Slideshow",
  "kernelspec": {
   "display_name": "Python 3",
   "language": "python",
   "name": "python3"
  },
  "language_info": {
   "codemirror_mode": {
    "name": "ipython",
    "version": 3
   },
   "file_extension": ".py",
   "mimetype": "text/x-python",
   "name": "python",
   "nbconvert_exporter": "python",
   "pygments_lexer": "ipython3",
   "version": "3.4.4"
  }
 },
 "nbformat": 4,
 "nbformat_minor": 0
}
